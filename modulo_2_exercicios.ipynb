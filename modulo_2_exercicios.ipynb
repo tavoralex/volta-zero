{
  "nbformat": 4,
  "nbformat_minor": 0,
  "metadata": {
    "colab": {
      "provenance": [],
      "collapsed_sections": [],
      "toc_visible": true
    },
    "kernelspec": {
      "name": "python3",
      "display_name": "Python 3"
    }
  },
  "cells": [
    {
      "cell_type": "markdown",
      "metadata": {
        "id": "KJqp9AANOCtf"
      },
      "source": [
        "<img src=\"https://raw.githubusercontent.com/andre-marcos-perez/ebac-course-utils/main/media/logo/newebac_logo_black_half.png\" alt=\"ebac-logo\">\n",
        "\n",
        "---\n",
        "\n",
        "# **Módulo 02** | Python: Estruturas de Dados\n",
        "Caderno de **Exercícios**<br> \n",
        "Professor [André Perez](https://www.linkedin.com/in/andremarcosperez/)\n",
        "\n",
        "---"
      ]
    },
    {
      "cell_type": "markdown",
      "metadata": {
        "id": "d9jDtUbDOE1-"
      },
      "source": [
        "# **Tópicos**\n",
        "\n",
        "<ol type=\"1\">\n",
        "  <li>Listas;</li>\n",
        "  <li>Conjuntos;</li>\n",
        "  <li>Dicionários.</li>\n",
        "</ol>"
      ]
    },
    {
      "cell_type": "markdown",
      "metadata": {
        "id": "SmoHgt-lwkpD"
      },
      "source": [
        "---"
      ]
    },
    {
      "cell_type": "markdown",
      "metadata": {
        "id": "GABI6OW8OfQ2"
      },
      "source": [
        "# **Exercícios**"
      ]
    },
    {
      "cell_type": "markdown",
      "metadata": {
        "id": "muD1vxozykSC"
      },
      "source": [
        "## 1\\. Listas"
      ]
    },
    {
      "cell_type": "markdown",
      "metadata": {
        "id": "ahrFfCuBxJKs"
      },
      "source": [
        "Criei uma lista chamada `filmes` com o nome dos 10 primeiros filmes mais bem avaliados no site no [IMDB](https://www.imdb.com/chart/top/). Imprima o resultado."
      ]
    },
    {
      "cell_type": "code",
      "metadata": {
        "id": "OgL6Hv3bzOHI",
        "colab": {
          "base_uri": "https://localhost:8080/"
        },
        "outputId": "9c7c8b72-0422-4642-ce05-c10351cd7c2e"
      },
      "source": [
        "top10=[\"Um sonho de liberdade\", \n",
        "      \"O poderoso chefão\", \n",
        "      \"Batman: O cavaleiro das trevas\", \n",
        "      \"O poderoso chefão II\",\n",
        "      \"12 homens e 1 sentença\",\n",
        "      \"A lista de Schindler\",\n",
        "      \"O senhor dos aneis: O retorno do rei\",\n",
        "      \"Pulp fiction: Tempo de violência\",\n",
        "      \"O senhor dos aneis: A sociedade do anel\",\n",
        "      \"Três homens em conflito\"]\n",
        "\n",
        "print(top10)\n",
        "print(len(top10))"
      ],
      "execution_count": 38,
      "outputs": [
        {
          "output_type": "stream",
          "name": "stdout",
          "text": [
            "['Um sonho de liberdade', 'O poderoso chefão', 'Batman: O cavaleiro das trevas', 'O poderoso chefão II', '12 homens e 1 sentença', 'A lista de Schindler', 'O senhor dos aneis: O retorno do rei', 'Pulp fiction: Tempo de violência', 'O senhor dos aneis: A sociedade do anel', 'Três homens em conflito']\n",
            "10\n"
          ]
        }
      ]
    },
    {
      "cell_type": "code",
      "source": [
        "top10_=[]\n",
        "top10_.append(\"Um sonho de libertade\")\n",
        "top10_.append(\"O poderoso chefao\")\n",
        "top10_.append(\"Batman: O cavaleiro das trevas\")\n",
        "top10_.append(\"O poderoso chefao II\")\n",
        "top10_.append(\"12 homens e 1 sentença\")\n",
        "top10_.append(\"A lista de Schindler\")\n",
        "top10_.append(\"O senhor dos aneis: O retorno do rei\")\n",
        "top10_.append(\"Pulp fiction: tempo de violencia\")\n",
        "top10_.append(\"O senhor dos aneis: a sociedade do anel\")\n",
        "top10_.append(\"Três homens em conflito\")\n",
        "\n",
        "print(top10_)"
      ],
      "metadata": {
        "colab": {
          "base_uri": "https://localhost:8080/"
        },
        "id": "cI2d-el23DeV",
        "outputId": "42b73c99-c9f4-43d0-9736-a1f62cf626a4"
      },
      "execution_count": 37,
      "outputs": [
        {
          "output_type": "stream",
          "name": "stdout",
          "text": [
            "['Um sonho de libertade', 'O poderoso chefao', 'Batman: O cavaleiro das trevas', 'O poderoso chefao II', '12 homens e 1 sentença', 'A lista de Schindler', 'O senhor dos aneis: O retorno do rei', 'Pulp fiction: tempo de violencia', 'O senhor dos aneis: a sociedade do anel', 'Três homens em conflito']\n"
          ]
        }
      ]
    },
    {
      "cell_type": "markdown",
      "metadata": {
        "id": "KI9zQRT2xa7m"
      },
      "source": [
        "Simule a movimentação do *ranking*. Utilize os métodos `insert` e `pop` para trocar a posição do primeiro e do segundo filme da lista. Imprima o resultado.\n",
        "\n"
      ]
    },
    {
      "cell_type": "code",
      "source": [
        "top10.insert(0, \"O poderoso chefão\")\n",
        "top10.pop(2)\n",
        "\n",
        "print(top10)"
      ],
      "metadata": {
        "colab": {
          "base_uri": "https://localhost:8080/"
        },
        "id": "FYy1_PKKz-HP",
        "outputId": "f49c72e1-9213-4797-ef51-2a529556ac81"
      },
      "execution_count": 21,
      "outputs": [
        {
          "output_type": "stream",
          "name": "stdout",
          "text": [
            "['O poderoso chefão', 'Um sonho de liberdade', 'Batman: O cavaleiro das trevas', 'O poderoso chefão II', '12 homens e 1 sentença', 'A lista de Schindler', 'O senhor dos aneis: O retorno do rei', 'Pulp fiction: Tempo de violência', 'O senhor dos aneis: A sociedade do anel', 'Três homens em conflito']\n"
          ]
        }
      ]
    },
    {
      "cell_type": "code",
      "metadata": {
        "id": "zX3mA3_GzrXH"
      },
      "source": [],
      "execution_count": null,
      "outputs": []
    },
    {
      "cell_type": "markdown",
      "metadata": {
        "id": "zMN1Q3jdwoJm"
      },
      "source": [
        "---"
      ]
    },
    {
      "cell_type": "markdown",
      "metadata": {
        "id": "lxa5L6uF0ZJE"
      },
      "source": [
        "## 2\\. Conjuntos"
      ]
    },
    {
      "cell_type": "markdown",
      "metadata": {
        "id": "9JahS2Kj0d5u"
      },
      "source": [
        "Aconteceu um erro no seu *ranking*. Simule a duplicação dos três últimos filmes da lista. Imprima o resultado."
      ]
    },
    {
      "cell_type": "code",
      "metadata": {
        "id": "BnjnLBNC6PGe",
        "colab": {
          "base_uri": "https://localhost:8080/"
        },
        "outputId": "138b0143-271d-4f11-b8a7-40d193c3d7b7"
      },
      "source": [
        "top10.append(\"Pulp fiction: Tempo de violência\")\n",
        "top10.append(\"O senhor dos aneis: A sociedade do anel\")\n",
        "top10.append(\"Três homens em conflito\")\n",
        "\n",
        "print(top10)"
      ],
      "execution_count": 39,
      "outputs": [
        {
          "output_type": "stream",
          "name": "stdout",
          "text": [
            "['Um sonho de liberdade', 'O poderoso chefão', 'Batman: O cavaleiro das trevas', 'O poderoso chefão II', '12 homens e 1 sentença', 'A lista de Schindler', 'O senhor dos aneis: O retorno do rei', 'Pulp fiction: Tempo de violência', 'O senhor dos aneis: A sociedade do anel', 'Três homens em conflito', 'Pulp fiction: Tempo de violência', 'O senhor dos aneis: A sociedade do anel', 'Três homens em conflito']\n"
          ]
        }
      ]
    },
    {
      "cell_type": "markdown",
      "metadata": {
        "id": "suxTfCJB6ZiX"
      },
      "source": [
        "Utiliza a conversão `set` e `list` para remover os valores duplicados. Imprima o resultado. "
      ]
    },
    {
      "cell_type": "code",
      "metadata": {
        "id": "ZvUGN-0n6joM",
        "colab": {
          "base_uri": "https://localhost:8080/"
        },
        "outputId": "83c0eff0-ef83-4275-9b6f-430d6b791a09"
      },
      "source": [
        "list(set(top10))"
      ],
      "execution_count": 40,
      "outputs": [
        {
          "output_type": "execute_result",
          "data": {
            "text/plain": [
              "['Pulp fiction: Tempo de violência',\n",
              " 'O senhor dos aneis: A sociedade do anel',\n",
              " 'O poderoso chefão',\n",
              " 'A lista de Schindler',\n",
              " 'O senhor dos aneis: O retorno do rei',\n",
              " 'Três homens em conflito',\n",
              " 'Batman: O cavaleiro das trevas',\n",
              " 'O poderoso chefão II',\n",
              " 'Um sonho de liberdade',\n",
              " '12 homens e 1 sentença']"
            ]
          },
          "metadata": {},
          "execution_count": 40
        }
      ]
    },
    {
      "cell_type": "markdown",
      "source": [],
      "metadata": {
        "id": "sTQTt-sj7TE7"
      }
    },
    {
      "cell_type": "markdown",
      "metadata": {
        "id": "ShkK35eQ6pAM"
      },
      "source": [
        "---"
      ]
    },
    {
      "cell_type": "markdown",
      "metadata": {
        "id": "EL_FzmxL6rTv"
      },
      "source": [
        "## 3\\. Dicionários"
      ]
    },
    {
      "cell_type": "markdown",
      "metadata": {
        "id": "i8l0gFqRCpfT"
      },
      "source": [
        "Repita os exercícios da parte 1 (listas). Os elementos da lista `filmes` devem ser dicionários no seguinte formato: `{'nome': <nome-do-filme>, 'ano': <ano do filme>}, 'sinopse': <sinopse do filme>}`. "
      ]
    },
    {
      "cell_type": "code",
      "source": [
        "top10 = {\n",
        "    \"top1\":{\n",
        "        \"Nome\":\"Um sonho de liberdade\",\n",
        "         \"Ano\":\"1994\",\n",
        "         \"Sinopse\":\"Dois homens presos se reúnem ao longo de vários anos, encontrando consolo e eventual redenção através de atos de decência comum.\"\n",
        "         },\n",
        "    \"top2\":{\n",
        "        \"Nome\":\"O poderoso chefão\",\n",
        "        \"Ano\":\"1972\",\n",
        "        \"Sinopse\":\"O patriarca idoso de uma dinastia do crime organizado transfere o controle de seu império clandestino para seu filho relutante.\"\n",
        "        },\n",
        "     \"top3\":{\n",
        "         \"Nome\":\"Batman: O cavaleiro das trevas\",\n",
        "         \"Ano\":\"2008\",\n",
        "         \"Sinopse\":\"Quando a ameaça conhecida como O Coringa surge de seu passado, causa estragos e caos nas pessoas de Gotham. O Cavaleiro das Trevas deve aceitar um dos maiores testes para combater a injustiça.\"\n",
        "        },\n",
        "     \"top4\":{\n",
        "         \"Nome\":\"O poderoso chefão II\",\n",
        "         \"Ano\":\"1974\",\n",
        "         \"Sinopse\":\"Em 1950, Michael Corleone, agora à frente da família, tenta expandir o negócio do crime a Las Vegas, Los Angeles e Cuba. Paralelamente, é revelada a história de Vito Corleone, e de como saiu da Sicília e chegou a Nova Iorque.\"\n",
        "        },\n",
        "     \"top5\":{\n",
        "         \"Nome\":\"12 homens e 1 sentença\",\n",
        "         \"Ano\":\"1957\",\n",
        "         \"Sinopse\":\"Um jurado que se aposenta tenta evitar um erro judicial forçando seus colegas a reconsiderarem as evidências.\"\n",
        "        },\n",
        "      \"top6\":{\n",
        "          \"Nome\":\"A lista de Schindler\",\n",
        "          \"Ano\":\"1993\",\n",
        "          \"Sinopse\":\"Depois de testemunhar a perseguição dos judaicos na Polônia ocupada pelos alemães durante a Segunda Guerra Mundial, o industrial Oskar Schindler se começa a preocupar com sua força de trabalho judaica.\"\n",
        "      },\n",
        "      \"top7\":{\n",
        "          \"Nome\":\"O senhor dos aneis: O retorno do rei\",\n",
        "          \"Ano\":\"2003\",\n",
        "          \"Sinopse\":\"Gandalf e Aragorn lideram o Mundo dos Homens contra o exército de Sauron para desviar o olhar de Frodo e Sam quando eles se aproximam á Montanha da Perdição com o Um Anel.\"\n",
        "      },\n",
        "      \"top8\":{\n",
        "          \"Nome\":\"Pulp fiction: Tempo de violência\",\n",
        "          \"Ano\":\"1994\",\n",
        "          \"Sinopse\":\"As vidas de dois assassinos da máfia, um boxeador, um gângster e sua esposa, e um par de bandidos se entrelaçam em quatro histórias de violência e redenção.\"\n",
        "      },\n",
        "      \"top9\":{\n",
        "          \"Nome\":\"O Senhor dos Anéis: A Sociedade do Anel\",\n",
        "          \"Ano\":\"2001\",\n",
        "          \"Sinopse\":\"Um manso hobbit do Condado e oito companheiros partem em uma jornada para destruir o poderoso Um Anel e salvar a Terra-média das Trevas.\"\n",
        "      },\n",
        "      \"top10\":{\n",
        "          \"Nome\":\"Três Homens em Conflito\",\n",
        "          \"Ano\":\"1966\",\n",
        "          \"Sinopse\":\"Um impostor se junta com dois homens para encontrar fortuna num remoto cemitério.\"\n",
        "      }          \n",
        "    }\n",
        "\n",
        "\n",
        "\n",
        "\n"
      ],
      "metadata": {
        "colab": {
          "base_uri": "https://localhost:8080/",
          "height": 36
        },
        "id": "7gRwHJhz69rN",
        "outputId": "4f0c2201-62a6-4b47-80a7-ce25ca5b4f22"
      },
      "execution_count": 30,
      "outputs": [
        {
          "output_type": "execute_result",
          "data": {
            "text/plain": [
              "'O patriarca idoso de uma dinastia do crime organizado transfere o controle de seu império clandestino para seu filho relutante.'"
            ],
            "application/vnd.google.colaboratory.intrinsic+json": {
              "type": "string"
            }
          },
          "metadata": {},
          "execution_count": 30
        }
      ]
    },
    {
      "cell_type": "code",
      "source": [],
      "metadata": {
        "id": "5rWP7mz49d4S"
      },
      "execution_count": null,
      "outputs": []
    }
  ]
}